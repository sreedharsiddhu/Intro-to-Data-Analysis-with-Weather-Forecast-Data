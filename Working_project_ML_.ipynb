{
 "cells": [
  {
   "cell_type": "markdown",
   "id": "7afea820",
   "metadata": {
    "colab_type": "text",
    "id": "view-in-github"
   },
   "source": [
    "<a href=\"https://colab.research.google.com/github/Faiz-Hussain650/Project_ML-/blob/main/Working_project_ML_.ipynb\" target=\"_parent\"><img src=\"https://colab.research.google.com/assets/colab-badge.svg\" alt=\"Open In Colab\"/></a>"
   ]
  },
  {
   "cell_type": "code",
   "execution_count": 1,
   "id": "582bdf5a-29cc-4e85-af08-e45e32099d97",
   "metadata": {
    "id": "582bdf5a-29cc-4e85-af08-e45e32099d97"
   },
   "outputs": [],
   "source": [
    "import pandas as pd\n",
    "import numpy as np\n",
    "import matplotlib.pyplot as plt\n",
    "import seaborn as sns\n"
   ]
  },
  {
   "cell_type": "code",
   "execution_count": 2,
   "id": "ba2634b7-9c23-4c3b-b82d-f4426b472825",
   "metadata": {
    "id": "ba2634b7-9c23-4c3b-b82d-f4426b472825"
   },
   "outputs": [
    {
     "ename": "FileNotFoundError",
     "evalue": "[Errno 2] No such file or directory: '/content/Grazzanise airport.xlsx'",
     "output_type": "error",
     "traceback": [
      "\u001b[1;31m---------------------------------------------------------------------------\u001b[0m",
      "\u001b[1;31mFileNotFoundError\u001b[0m                         Traceback (most recent call last)",
      "Cell \u001b[1;32mIn[2], line 1\u001b[0m\n\u001b[1;32m----> 1\u001b[0m Airport1 \u001b[38;5;241m=\u001b[39m pd\u001b[38;5;241m.\u001b[39mread_excel(\u001b[38;5;124m\"\u001b[39m\u001b[38;5;124m/content/Grazzanise airport.xlsx\u001b[39m\u001b[38;5;124m\"\u001b[39m)\n\u001b[0;32m      2\u001b[0m AirportC1 \u001b[38;5;241m=\u001b[39m Airport1\n",
      "File \u001b[1;32m~\\anaconda3\\Lib\\site-packages\\pandas\\io\\excel\\_base.py:478\u001b[0m, in \u001b[0;36mread_excel\u001b[1;34m(io, sheet_name, header, names, index_col, usecols, dtype, engine, converters, true_values, false_values, skiprows, nrows, na_values, keep_default_na, na_filter, verbose, parse_dates, date_parser, date_format, thousands, decimal, comment, skipfooter, storage_options, dtype_backend)\u001b[0m\n\u001b[0;32m    476\u001b[0m \u001b[38;5;28;01mif\u001b[39;00m \u001b[38;5;129;01mnot\u001b[39;00m \u001b[38;5;28misinstance\u001b[39m(io, ExcelFile):\n\u001b[0;32m    477\u001b[0m     should_close \u001b[38;5;241m=\u001b[39m \u001b[38;5;28;01mTrue\u001b[39;00m\n\u001b[1;32m--> 478\u001b[0m     io \u001b[38;5;241m=\u001b[39m ExcelFile(io, storage_options\u001b[38;5;241m=\u001b[39mstorage_options, engine\u001b[38;5;241m=\u001b[39mengine)\n\u001b[0;32m    479\u001b[0m \u001b[38;5;28;01melif\u001b[39;00m engine \u001b[38;5;129;01mand\u001b[39;00m engine \u001b[38;5;241m!=\u001b[39m io\u001b[38;5;241m.\u001b[39mengine:\n\u001b[0;32m    480\u001b[0m     \u001b[38;5;28;01mraise\u001b[39;00m \u001b[38;5;167;01mValueError\u001b[39;00m(\n\u001b[0;32m    481\u001b[0m         \u001b[38;5;124m\"\u001b[39m\u001b[38;5;124mEngine should not be specified when passing \u001b[39m\u001b[38;5;124m\"\u001b[39m\n\u001b[0;32m    482\u001b[0m         \u001b[38;5;124m\"\u001b[39m\u001b[38;5;124man ExcelFile - ExcelFile already has the engine set\u001b[39m\u001b[38;5;124m\"\u001b[39m\n\u001b[0;32m    483\u001b[0m     )\n",
      "File \u001b[1;32m~\\anaconda3\\Lib\\site-packages\\pandas\\io\\excel\\_base.py:1496\u001b[0m, in \u001b[0;36mExcelFile.__init__\u001b[1;34m(self, path_or_buffer, engine, storage_options)\u001b[0m\n\u001b[0;32m   1494\u001b[0m     ext \u001b[38;5;241m=\u001b[39m \u001b[38;5;124m\"\u001b[39m\u001b[38;5;124mxls\u001b[39m\u001b[38;5;124m\"\u001b[39m\n\u001b[0;32m   1495\u001b[0m \u001b[38;5;28;01melse\u001b[39;00m:\n\u001b[1;32m-> 1496\u001b[0m     ext \u001b[38;5;241m=\u001b[39m inspect_excel_format(\n\u001b[0;32m   1497\u001b[0m         content_or_path\u001b[38;5;241m=\u001b[39mpath_or_buffer, storage_options\u001b[38;5;241m=\u001b[39mstorage_options\n\u001b[0;32m   1498\u001b[0m     )\n\u001b[0;32m   1499\u001b[0m     \u001b[38;5;28;01mif\u001b[39;00m ext \u001b[38;5;129;01mis\u001b[39;00m \u001b[38;5;28;01mNone\u001b[39;00m:\n\u001b[0;32m   1500\u001b[0m         \u001b[38;5;28;01mraise\u001b[39;00m \u001b[38;5;167;01mValueError\u001b[39;00m(\n\u001b[0;32m   1501\u001b[0m             \u001b[38;5;124m\"\u001b[39m\u001b[38;5;124mExcel file format cannot be determined, you must specify \u001b[39m\u001b[38;5;124m\"\u001b[39m\n\u001b[0;32m   1502\u001b[0m             \u001b[38;5;124m\"\u001b[39m\u001b[38;5;124man engine manually.\u001b[39m\u001b[38;5;124m\"\u001b[39m\n\u001b[0;32m   1503\u001b[0m         )\n",
      "File \u001b[1;32m~\\anaconda3\\Lib\\site-packages\\pandas\\io\\excel\\_base.py:1371\u001b[0m, in \u001b[0;36minspect_excel_format\u001b[1;34m(content_or_path, storage_options)\u001b[0m\n\u001b[0;32m   1368\u001b[0m \u001b[38;5;28;01mif\u001b[39;00m \u001b[38;5;28misinstance\u001b[39m(content_or_path, \u001b[38;5;28mbytes\u001b[39m):\n\u001b[0;32m   1369\u001b[0m     content_or_path \u001b[38;5;241m=\u001b[39m BytesIO(content_or_path)\n\u001b[1;32m-> 1371\u001b[0m \u001b[38;5;28;01mwith\u001b[39;00m get_handle(\n\u001b[0;32m   1372\u001b[0m     content_or_path, \u001b[38;5;124m\"\u001b[39m\u001b[38;5;124mrb\u001b[39m\u001b[38;5;124m\"\u001b[39m, storage_options\u001b[38;5;241m=\u001b[39mstorage_options, is_text\u001b[38;5;241m=\u001b[39m\u001b[38;5;28;01mFalse\u001b[39;00m\n\u001b[0;32m   1373\u001b[0m ) \u001b[38;5;28;01mas\u001b[39;00m handle:\n\u001b[0;32m   1374\u001b[0m     stream \u001b[38;5;241m=\u001b[39m handle\u001b[38;5;241m.\u001b[39mhandle\n\u001b[0;32m   1375\u001b[0m     stream\u001b[38;5;241m.\u001b[39mseek(\u001b[38;5;241m0\u001b[39m)\n",
      "File \u001b[1;32m~\\anaconda3\\Lib\\site-packages\\pandas\\io\\common.py:868\u001b[0m, in \u001b[0;36mget_handle\u001b[1;34m(path_or_buf, mode, encoding, compression, memory_map, is_text, errors, storage_options)\u001b[0m\n\u001b[0;32m    859\u001b[0m         handle \u001b[38;5;241m=\u001b[39m \u001b[38;5;28mopen\u001b[39m(\n\u001b[0;32m    860\u001b[0m             handle,\n\u001b[0;32m    861\u001b[0m             ioargs\u001b[38;5;241m.\u001b[39mmode,\n\u001b[1;32m   (...)\u001b[0m\n\u001b[0;32m    864\u001b[0m             newline\u001b[38;5;241m=\u001b[39m\u001b[38;5;124m\"\u001b[39m\u001b[38;5;124m\"\u001b[39m,\n\u001b[0;32m    865\u001b[0m         )\n\u001b[0;32m    866\u001b[0m     \u001b[38;5;28;01melse\u001b[39;00m:\n\u001b[0;32m    867\u001b[0m         \u001b[38;5;66;03m# Binary mode\u001b[39;00m\n\u001b[1;32m--> 868\u001b[0m         handle \u001b[38;5;241m=\u001b[39m \u001b[38;5;28mopen\u001b[39m(handle, ioargs\u001b[38;5;241m.\u001b[39mmode)\n\u001b[0;32m    869\u001b[0m     handles\u001b[38;5;241m.\u001b[39mappend(handle)\n\u001b[0;32m    871\u001b[0m \u001b[38;5;66;03m# Convert BytesIO or file objects passed with an encoding\u001b[39;00m\n",
      "\u001b[1;31mFileNotFoundError\u001b[0m: [Errno 2] No such file or directory: '/content/Grazzanise airport.xlsx'"
     ]
    }
   ],
   "source": [
    "Airport1 = pd.read_excel(\"/content/Grazzanise airport.xlsx\")\n",
    "AirportC1 = Airport1\n"
   ]
  },
  {
   "cell_type": "code",
   "execution_count": null,
   "id": "Y54z3BNbq5lX",
   "metadata": {
    "id": "Y54z3BNbq5lX"
   },
   "outputs": [],
   "source": [
    "Airport2 = pd.read_excel(\"/content/Trapani airport.xlsx\")\n",
    "AirportC2 = Airport2"
   ]
  },
  {
   "cell_type": "code",
   "execution_count": null,
   "id": "udiyFUVJq_yX",
   "metadata": {
    "id": "udiyFUVJq_yX"
   },
   "outputs": [],
   "source": [
    "Airport3 = pd.read_excel(\"/content/Treviso airport.xlsx\")\n",
    "AirportC3 = Airport3"
   ]
  },
  {
   "cell_type": "code",
   "execution_count": null,
   "id": "xB48uR1rj_ZS",
   "metadata": {
    "id": "xB48uR1rj_ZS"
   },
   "outputs": [],
   "source": [
    "AirportC1 = Airport1\n",
    "AirportC2 = Airport2\n",
    "AirportC3 = Airport3"
   ]
  },
  {
   "cell_type": "code",
   "execution_count": null,
   "id": "9imJruYFqMHD",
   "metadata": {
    "colab": {
     "base_uri": "https://localhost:8080/",
     "height": 617
    },
    "id": "9imJruYFqMHD",
    "outputId": "a1d62fa2-d8e3-47ce-9642-297ddac3fe72"
   },
   "outputs": [],
   "source": [
    "Airport1"
   ]
  },
  {
   "cell_type": "code",
   "execution_count": null,
   "id": "4oAPvhIjrNQp",
   "metadata": {
    "colab": {
     "base_uri": "https://localhost:8080/",
     "height": 617
    },
    "id": "4oAPvhIjrNQp",
    "outputId": "3fb96f93-ade4-45ce-9d4f-19087b6dfd80"
   },
   "outputs": [],
   "source": [
    "Airport2"
   ]
  },
  {
   "cell_type": "code",
   "execution_count": null,
   "id": "6Lg3YEOJrRYA",
   "metadata": {
    "colab": {
     "base_uri": "https://localhost:8080/",
     "height": 617
    },
    "id": "6Lg3YEOJrRYA",
    "outputId": "7443ea2d-a40e-40b7-9df9-7bfc74e4409e"
   },
   "outputs": [],
   "source": [
    "Airport3"
   ]
  },
  {
   "cell_type": "markdown",
   "id": "pZgy5ZfAs1xr",
   "metadata": {
    "id": "pZgy5ZfAs1xr"
   },
   "source": [
    "Finding the missing Values in Airport 1"
   ]
  },
  {
   "cell_type": "code",
   "execution_count": null,
   "id": "cnkEhS6Cs1jE",
   "metadata": {
    "colab": {
     "base_uri": "https://localhost:8080/"
    },
    "id": "cnkEhS6Cs1jE",
    "outputId": "aae2b125-4653-4d3e-80c3-6036ee00ae17"
   },
   "outputs": [],
   "source": [
    "\n",
    "# Count the total number of missing values in Airport1\n",
    "total_missing = Airport1.isnull().sum().sum()\n",
    "print(f\"Total missing values in Airport1: {total_missing}\")\n",
    "\n",
    "# Count the number of missing values for each column\n",
    "missing_values_per_column = Airport1.isnull().sum()\n",
    "print(\"\\nMissing values per column in Airport1:\")\n",
    "print(missing_values_per_column)\n",
    "\n",
    "# Get a boolean DataFrame indicating the location of missing values\n",
    "missing_value_locations = Airport1.isnull()"
   ]
  },
  {
   "cell_type": "markdown",
   "id": "RKyHnYzzuQnI",
   "metadata": {
    "id": "RKyHnYzzuQnI"
   },
   "source": [
    "Finding the missing values in Airport 2"
   ]
  },
  {
   "cell_type": "code",
   "execution_count": null,
   "id": "sJX6IGX1tSsw",
   "metadata": {
    "colab": {
     "base_uri": "https://localhost:8080/"
    },
    "id": "sJX6IGX1tSsw",
    "outputId": "b37872ef-d704-42fd-ad9e-eec36a9954be"
   },
   "outputs": [],
   "source": [
    "# Count the total number of missing values in Airport2\n",
    "total_missing = Airport2.isnull().sum().sum()\n",
    "print(f\"Total missing values in Airport2: {total_missing}\")\n",
    "\n",
    "# Count the number of missing values for each column\n",
    "missing_values_per_column = Airport2.isnull().sum()\n",
    "print(\"\\nMissing values per column in Airport2:\")\n",
    "print(missing_values_per_column)\n",
    "\n",
    "# Get a boolean DataFrame indicating the location of missing values\n",
    "missing_value_locations = Airport2.isnull()"
   ]
  },
  {
   "cell_type": "markdown",
   "id": "bVp-dOxNucR3",
   "metadata": {
    "id": "bVp-dOxNucR3"
   },
   "source": []
  },
  {
   "cell_type": "markdown",
   "id": "NiaMHDsOuetv",
   "metadata": {
    "id": "NiaMHDsOuetv"
   },
   "source": [
    "Finding the missing values in Airport 3"
   ]
  },
  {
   "cell_type": "code",
   "execution_count": null,
   "id": "o5_Z9r3TuYYf",
   "metadata": {
    "colab": {
     "base_uri": "https://localhost:8080/"
    },
    "id": "o5_Z9r3TuYYf",
    "outputId": "e922cd69-7a34-48ac-b77b-ebf1c14b16f4"
   },
   "outputs": [],
   "source": [
    "# Count the total number of missing values in Airport3\n",
    "total_missing = Airport3.isnull().sum().sum()\n",
    "print(f\"Total missing values in Airport2: {total_missing}\")\n",
    "\n",
    "# Count the number of missing values for each column\n",
    "missing_values_per_column = Airport3.isnull().sum()\n",
    "print(\"\\nMissing values per column in Airport3:\")\n",
    "print(missing_values_per_column)\n",
    "\n",
    "# Get a boolean DataFrame indicating the location of missing values\n",
    "missing_value_locations = Airport3.isnull()"
   ]
  },
  {
   "cell_type": "markdown",
   "id": "wNjluyhbvrTW",
   "metadata": {
    "id": "wNjluyhbvrTW"
   },
   "source": [
    "Finding the missing values of Airport 1 in Percentage"
   ]
  },
  {
   "cell_type": "code",
   "execution_count": null,
   "id": "2R53e49bvN-5",
   "metadata": {
    "colab": {
     "base_uri": "https://localhost:8080/"
    },
    "id": "2R53e49bvN-5",
    "outputId": "71746583-a67b-40f2-be21-f85de17aecc7"
   },
   "outputs": [],
   "source": [
    "# Count the number of missing values for each column\n",
    "missing_values_count = Airport1.isnull().sum()\n",
    "\n",
    "# Calculate the percentage of missing values for each column\n",
    "total_rows = len(Airport1)\n",
    "missing_values_percentage = (missing_values_count / total_rows) * 100\n",
    "\n",
    "# Create a DataFrame to display the results\n",
    "missing_values_df = pd.DataFrame({\n",
    "    'Column': missing_values_count.index,\n",
    "    'Missing Values': missing_values_count.values,\n",
    "    'Percentage': missing_values_percentage.values\n",
    "})\n",
    "\n",
    "# Sort the DataFrame by the 'Percentage' column in descending order\n",
    "missing_values_df = missing_values_df.sort_values(by='Percentage', ascending=False)\n",
    "\n",
    "# Display the results\n",
    "print(missing_values_df)"
   ]
  },
  {
   "cell_type": "markdown",
   "id": "72MUIix6v5AM",
   "metadata": {
    "id": "72MUIix6v5AM"
   },
   "source": [
    "Finding the missing values of Airport 2 in Percentage"
   ]
  },
  {
   "cell_type": "code",
   "execution_count": null,
   "id": "UYhYjhNBvxdW",
   "metadata": {
    "colab": {
     "base_uri": "https://localhost:8080/"
    },
    "id": "UYhYjhNBvxdW",
    "outputId": "b5c61133-3039-4d29-a6c6-5ebc9b46451c"
   },
   "outputs": [],
   "source": [
    "# Count the number of missing values for each column\n",
    "missing_values_count = Airport2.isnull().sum()\n",
    "\n",
    "# Calculate the percentage of missing values for each column\n",
    "total_rows = len(Airport2)\n",
    "missing_values_percentage = (missing_values_count / total_rows) * 100\n",
    "\n",
    "# Create a DataFrame to display the results\n",
    "missing_values_df = pd.DataFrame({\n",
    "    'Column': missing_values_count.index,\n",
    "    'Missing Values': missing_values_count.values,\n",
    "    'Percentage': missing_values_percentage.values\n",
    "})\n",
    "\n",
    "# Sort the DataFrame by the 'Percentage' column in descending order\n",
    "missing_values_df = missing_values_df.sort_values(by='Percentage', ascending=False)\n",
    "\n",
    "# Display the results\n",
    "print(missing_values_df)"
   ]
  },
  {
   "cell_type": "markdown",
   "id": "THVolNvqwCfM",
   "metadata": {
    "id": "THVolNvqwCfM"
   },
   "source": [
    "Finding the missing values of Airport 3 in Percentage"
   ]
  },
  {
   "cell_type": "code",
   "execution_count": null,
   "id": "J1JVQpYhv9Y0",
   "metadata": {
    "colab": {
     "base_uri": "https://localhost:8080/"
    },
    "id": "J1JVQpYhv9Y0",
    "outputId": "7bcd4dcc-012c-43ed-b828-e9d04ee587d0"
   },
   "outputs": [],
   "source": [
    "# Count the number of missing values for each column\n",
    "missing_values_count = Airport3.isnull().sum()\n",
    "\n",
    "# Calculate the percentage of missing values for each column\n",
    "total_rows = len(Airport3)\n",
    "missing_values_percentage = (missing_values_count / total_rows) * 100\n",
    "\n",
    "# Create a DataFrame to display the results\n",
    "missing_values_df = pd.DataFrame({\n",
    "    'Column': missing_values_count.index,\n",
    "    'Missing Values': missing_values_count.values,\n",
    "    'Percentage': missing_values_percentage.values\n",
    "})\n",
    "\n",
    "# Sort the DataFrame by the 'Percentage' column in descending order\n",
    "missing_values_df = missing_values_df.sort_values(by='Percentage', ascending=False)\n",
    "\n",
    "# Display the results\n",
    "print(missing_values_df)"
   ]
  },
  {
   "cell_type": "markdown",
   "id": "I2tYS07170wE",
   "metadata": {
    "id": "I2tYS07170wE"
   },
   "source": [
    "Summery of the Airport 1"
   ]
  },
  {
   "cell_type": "code",
   "execution_count": null,
   "id": "2qgNxQu96gLY",
   "metadata": {
    "colab": {
     "base_uri": "https://localhost:8080/"
    },
    "id": "2qgNxQu96gLY",
    "outputId": "39ea16db-6d4b-4053-cec2-d16932b7e38a"
   },
   "outputs": [],
   "source": [
    "# Get summary statistics\n",
    "summary = Airport1.describe()\n",
    "print(summary)"
   ]
  },
  {
   "cell_type": "markdown",
   "id": "95e780TF8FO2",
   "metadata": {
    "id": "95e780TF8FO2"
   },
   "source": [
    "Summery of the Airport 2"
   ]
  },
  {
   "cell_type": "code",
   "execution_count": null,
   "id": "H7OLvSnI8Dt6",
   "metadata": {
    "colab": {
     "base_uri": "https://localhost:8080/"
    },
    "id": "H7OLvSnI8Dt6",
    "outputId": "ef82deea-d1c0-47e1-a1ad-39b4f3507ea7"
   },
   "outputs": [],
   "source": [
    "\n",
    "# Get summary statistics\n",
    "summary = Airport2.describe()\n",
    "print(summary)"
   ]
  },
  {
   "cell_type": "markdown",
   "id": "reKQ5kh-8J5R",
   "metadata": {
    "id": "reKQ5kh-8J5R"
   },
   "source": [
    "Summery of the Airport 3"
   ]
  },
  {
   "cell_type": "code",
   "execution_count": null,
   "id": "aExKuoBv8LFa",
   "metadata": {
    "colab": {
     "base_uri": "https://localhost:8080/"
    },
    "id": "aExKuoBv8LFa",
    "outputId": "ecaa7330-395d-4b69-e8c1-c718a2c14405"
   },
   "outputs": [],
   "source": [
    "# Get summary statistics\n",
    "summary = Airport3.describe()\n",
    "print(summary)"
   ]
  },
  {
   "cell_type": "markdown",
   "id": "whelin4tUNEw",
   "metadata": {
    "id": "whelin4tUNEw"
   },
   "source": [
    "Checking common collum name in the data set"
   ]
  },
  {
   "cell_type": "code",
   "execution_count": null,
   "id": "Qm8e6vblTfKY",
   "metadata": {
    "colab": {
     "base_uri": "https://localhost:8080/"
    },
    "id": "Qm8e6vblTfKY",
    "outputId": "ba187c6e-bcb5-43ae-bb48-12984c642cee"
   },
   "outputs": [],
   "source": [
    "import pandas as pd\n",
    "\n",
    "\n",
    "# Get the column names of each dataset\n",
    "cols1 = set(Airport1.columns)\n",
    "cols2 = set(Airport2.columns)\n",
    "cols3 = set(Airport3.columns)\n",
    "\n",
    "# Find the common column names\n",
    "common_cols = cols1.intersection(cols2, cols3)\n",
    "\n",
    "# Print the common column names\n",
    "print(\"Common column names in all three datasets:\")\n",
    "for col in common_cols:\n",
    "    print(col)"
   ]
  },
  {
   "cell_type": "markdown",
   "id": "Hto4aoizUIFg",
   "metadata": {
    "id": "Hto4aoizUIFg"
   },
   "source": [
    "Checking there is uniqe collum name in the dataset"
   ]
  },
  {
   "cell_type": "code",
   "execution_count": null,
   "id": "AqmFQBAVT8j4",
   "metadata": {
    "colab": {
     "base_uri": "https://localhost:8080/"
    },
    "id": "AqmFQBAVT8j4",
    "outputId": "51472b29-e64e-4930-9bc9-0e48e838f985"
   },
   "outputs": [],
   "source": [
    "# Find the common column names\n",
    "common_cols = cols1.intersection(cols2, cols3)\n",
    "\n",
    "# Find the unique column names in each dataset\n",
    "unique_cols1 = cols1 - common_cols\n",
    "unique_cols2 = cols2 - common_cols\n",
    "unique_cols3 = cols3 - common_cols\n",
    "\n",
    "# Print the common column names\n",
    "print(\"Common column names in all three datasets:\")\n",
    "for col in common_cols:\n",
    "    print(col)\n",
    "\n",
    "# Print the unique column names in each dataset\n",
    "print(\"\\nUnique column names in Airport1:\")\n",
    "for col in unique_cols1:\n",
    "    print(col)\n",
    "\n",
    "print(\"\\nUnique column names in Airport2:\")\n",
    "for col in unique_cols2:\n",
    "    print(col)\n",
    "\n",
    "print(\"\\nUnique column names in Airport3:\")\n",
    "for col in unique_cols3:\n",
    "    print(col)"
   ]
  },
  {
   "cell_type": "markdown",
   "id": "zIzXmTEMY4nB",
   "metadata": {
    "id": "zIzXmTEMY4nB"
   },
   "source": [
    "Box Plot for outlayers"
   ]
  },
  {
   "cell_type": "code",
   "execution_count": null,
   "id": "NfDPEU6IX5Qg",
   "metadata": {
    "colab": {
     "base_uri": "https://localhost:8080/",
     "height": 1000
    },
    "id": "NfDPEU6IX5Qg",
    "outputId": "319500d7-6c35-46ff-ca2a-80340c75c26b"
   },
   "outputs": [],
   "source": [
    "\n",
    "# Check for missing values\n",
    "print(\"Missing values in the dataset:\")\n",
    "print(Airport1.isnull().sum())\n",
    "\n",
    "# Identify and visualize potential outliers\n",
    "for column in Airport1.select_dtypes(include=['float64', 'int64']).columns:\n",
    "    # Create a box plot for the column\n",
    "    plt.figure(figsize=(10, 6))\n",
    "    sns.boxplot(data=Airport1, x=column)\n",
    "    plt.title(f\"Box Plot for {column}\")\n",
    "    plt.show()\n",
    "\n",
    "    # Identify outliers using the interquartile range (IQR) method\n",
    "    q1 = Airport1[column].quantile(0.25)\n",
    "    q3 = Airport1[column].quantile(0.75)\n",
    "    iqr = q3 - q1\n",
    "    lower_bound = q1 - 1.5 * iqr\n",
    "    upper_bound = q3 + 1.5 * iqr\n",
    "    outliers = Airport1[(Airport1[column] < lower_bound) | (Airport1[column] > upper_bound)]\n",
    "\n",
    "    if not outliers.empty:\n",
    "        print(f\"Outliers in {column}:\")\n",
    "        print(outliers)\n",
    "    else:\n",
    "        print(f\"No outliers detected in {column}\")"
   ]
  },
  {
   "cell_type": "code",
   "execution_count": null,
   "id": "PK0_tf-CZA9b",
   "metadata": {
    "colab": {
     "base_uri": "https://localhost:8080/"
    },
    "id": "PK0_tf-CZA9b",
    "outputId": "6a7f8b62-40b6-429f-a9aa-49ccca112c52"
   },
   "outputs": [],
   "source": [
    "# Load the dataset\n",
    "Airport1 = pd.read_excel('/content/Grazzanise airport.xlsx', parse_dates=['date'])\n",
    "\n",
    "# Convert the 'dewpoint' column to datetime\n",
    "Airport1['dewpoint'] = pd.to_datetime(Airport1['dewpoint'])\n",
    "\n",
    "# Check the range of dates in the 'relative_humidity' column\n",
    "print(\"Minimum date in 'dewpoint' column:\", Airport1['dewpoint'].min())\n",
    "print(\"Maximum date in 'dewpoint' column:\", Airport1['dewpoint'].max())"
   ]
  },
  {
   "cell_type": "code",
   "execution_count": null,
   "id": "As1FdpeYbs-R",
   "metadata": {
    "colab": {
     "base_uri": "https://localhost:8080/"
    },
    "id": "As1FdpeYbs-R",
    "outputId": "c04fb11b-7fc1-46f2-a802-5f7aa8bf0351"
   },
   "outputs": [],
   "source": [
    "import pandas as pd\n",
    "\n",
    "# Load the dataset\n",
    "Airport1 = pd.read_excel('/content/Grazzanise airport.xlsx', parse_dates=['date'])\n",
    "\n",
    "# Convert the 'dewpoint' column to datetime\n",
    "Airport1['dewpoint'] = pd.to_datetime(Airport1['dewpoint'])\n",
    "\n",
    "# Sort the 'dewpoint' column by date\n",
    "Airport1 = Airport1.sort_values(by='dewpoint')\n",
    "\n",
    "# Get the earliest date in the 'relative_humidity' column\n",
    "earliest_date = Airport1['dewpoint'].dropna().min()\n",
    "\n",
    "print(f\"Data is available in the 'dewpoint' column from: {earliest_date}\")"
   ]
  },
  {
   "cell_type": "markdown",
   "id": "28UbboHqk6ux",
   "metadata": {
    "id": "28UbboHqk6ux"
   },
   "source": [
    "Removed the Relative_humiditu from the Airport1"
   ]
  },
  {
   "cell_type": "code",
   "execution_count": null,
   "id": "htQK_4ckkmI1",
   "metadata": {
    "colab": {
     "base_uri": "https://localhost:8080/"
    },
    "id": "htQK_4ckkmI1",
    "outputId": "82ff4d29-e90c-40f5-a666-3d3d2cc83e97"
   },
   "outputs": [],
   "source": [
    "def remove_column_from_airport1(column_name):\n",
    "    if column_name in Airport1.columns:\n",
    "        Airport1.drop(column_name, axis=1, inplace=True)\n",
    "        print(f\"Column '{column_name}' removed successfully from Airport1.\")\n",
    "    else:\n",
    "        print(f\"Column '{column_name}' not found in Airport1.\")\n",
    "\n",
    "# Example usage:\n",
    "# Suppose you want to remove the column named 'relative_humidity' from 'Airport1'\n",
    "remove_column_from_airport1('relative_humidity')"
   ]
  },
  {
   "cell_type": "code",
   "execution_count": null,
   "id": "PkXwB8jIkyhj",
   "metadata": {
    "colab": {
     "base_uri": "https://localhost:8080/",
     "height": 790
    },
    "id": "PkXwB8jIkyhj",
    "outputId": "f03a6966-3a24-41db-e93f-51037ec48614"
   },
   "outputs": [],
   "source": [
    "Airport1"
   ]
  },
  {
   "cell_type": "code",
   "execution_count": null,
   "id": "VgoWJZXUlECY",
   "metadata": {
    "colab": {
     "base_uri": "https://localhost:8080/"
    },
    "id": "VgoWJZXUlECY",
    "outputId": "d46d352a-7393-4cf9-eefc-9b9a26f099f6"
   },
   "outputs": [],
   "source": [
    "def remove_column_from_airport2(column_name):\n",
    "    if column_name in Airport2.columns:\n",
    "        Airport2.drop(column_name, axis=1, inplace=True)\n",
    "        print(f\"Column '{column_name}' removed successfully from Airport2.\")\n",
    "    else:\n",
    "        print(f\"Column '{column_name}' not found in Airport2.\")\n",
    "\n",
    "# Example usage:\n",
    "# Suppose you want to remove the column named 'relative_humidity' from 'Airport2'\n",
    "remove_column_from_airport2('relative_humidity')"
   ]
  },
  {
   "cell_type": "code",
   "execution_count": null,
   "id": "jBn3jwKQlMXK",
   "metadata": {
    "colab": {
     "base_uri": "https://localhost:8080/"
    },
    "id": "jBn3jwKQlMXK",
    "outputId": "f7801f19-39c6-4519-a1ce-334a17a53596"
   },
   "outputs": [],
   "source": [
    "def remove_column_from_airport3(column_name):\n",
    "    if column_name in Airport3.columns:\n",
    "        Airport3.drop(column_name, axis=1, inplace=True)\n",
    "        print(f\"Column '{column_name}' removed successfully from Airport3.\")\n",
    "    else:\n",
    "        print(f\"Column '{column_name}' not found in Airport3.\")\n",
    "\n",
    "# Example usage:\n",
    "# Suppose you want to remove the column named 'relative_humidity' from 'Airport3'\n",
    "remove_column_from_airport3('relative_humidity')"
   ]
  },
  {
   "cell_type": "code",
   "execution_count": null,
   "id": "KcZUEOEflUUL",
   "metadata": {
    "colab": {
     "base_uri": "https://localhost:8080/",
     "height": 617
    },
    "id": "KcZUEOEflUUL",
    "outputId": "de527774-f0e9-4c68-d961-1e81faa3da80"
   },
   "outputs": [],
   "source": [
    "Airport3"
   ]
  },
  {
   "cell_type": "markdown",
   "id": "nAal7X_4bQjb",
   "metadata": {
    "id": "nAal7X_4bQjb"
   },
   "source": [
    "Checking the value count of each"
   ]
  },
  {
   "cell_type": "code",
   "execution_count": null,
   "id": "G7-_GPmLaPpU",
   "metadata": {
    "colab": {
     "base_uri": "https://localhost:8080/"
    },
    "id": "G7-_GPmLaPpU",
    "outputId": "658031bd-d35a-427e-fa38-70cae9c18203"
   },
   "outputs": [],
   "source": [
    "Airport1.height_of_base_of_cloud.value_counts()"
   ]
  },
  {
   "cell_type": "code",
   "execution_count": null,
   "id": "IzAxgFOKbVdz",
   "metadata": {
    "id": "IzAxgFOKbVdz"
   },
   "outputs": [],
   "source": [
    "mod_cloud = Airport1['height_of_base_of_cloud'].mode()\n",
    "mod_of_clouds = mod_cloud.fillna(mod_cloud[0],inplace=True)\n",
    "mod_of_clouds"
   ]
  },
  {
   "cell_type": "code",
   "execution_count": null,
   "id": "BbVxO7q1cpes",
   "metadata": {
    "colab": {
     "base_uri": "https://localhost:8080/",
     "height": 790
    },
    "id": "BbVxO7q1cpes",
    "outputId": "62d94e90-930d-4abc-9ee6-3067dc309943"
   },
   "outputs": [],
   "source": [
    "Airport1"
   ]
  },
  {
   "cell_type": "code",
   "execution_count": null,
   "id": "D8g1bSl1dFrF",
   "metadata": {
    "id": "D8g1bSl1dFrF"
   },
   "outputs": [],
   "source": [
    "mod_cloud = Airport1['height_of_base_of_cloud'].isnull().sum()\n",
    "# mod_of_clouds = mod_cloud.fillna(mod_cloud[0],inplace=True)\n"
   ]
  },
  {
   "cell_type": "code",
   "execution_count": null,
   "id": "7E1abORsdSqw",
   "metadata": {
    "colab": {
     "base_uri": "https://localhost:8080/"
    },
    "id": "7E1abORsdSqw",
    "outputId": "f663eb75-5fd1-4baf-b8db-360397420514"
   },
   "outputs": [],
   "source": [
    "mod_cloud\n"
   ]
  },
  {
   "cell_type": "code",
   "execution_count": null,
   "id": "hKAE3GNQdXwC",
   "metadata": {
    "id": "hKAE3GNQdXwC"
   },
   "outputs": [],
   "source": [
    "mod_cloud = Airport1['height_of_base_of_cloud'].mode()\n",
    "mod_of_clouds = mod_cloud.fillna(mod_cloud[0],inplace=True)"
   ]
  },
  {
   "cell_type": "markdown",
   "id": "UAHzdkehe1bF",
   "metadata": {
    "id": "UAHzdkehe1bF"
   },
   "source": [
    "Fill the null values with mode"
   ]
  },
  {
   "cell_type": "code",
   "execution_count": null,
   "id": "c76zb2NAd3RM",
   "metadata": {
    "id": "c76zb2NAd3RM"
   },
   "outputs": [],
   "source": [
    "Airport1['height_of_base_of_cloud'].fillna(800, inplace = True)\n",
    "Airport2['height_of_base_of_cloud'].fillna(800, inplace = True)\n",
    "Airport3['height_of_base_of_cloud'].fillna(800, inplace = True)"
   ]
  },
  {
   "cell_type": "code",
   "execution_count": null,
   "id": "K40Yin5nd-_Y",
   "metadata": {
    "colab": {
     "base_uri": "https://localhost:8080/"
    },
    "id": "K40Yin5nd-_Y",
    "outputId": "862eead9-6a78-4856-f221-48ca60d04260"
   },
   "outputs": [],
   "source": [
    "Airport1['height_of_base_of_cloud'].isnull().sum()\n",
    "Airport2['height_of_base_of_cloud'].isnull().sum()\n",
    "Airport3['height_of_base_of_cloud'].isnull().sum()"
   ]
  },
  {
   "cell_type": "code",
   "execution_count": null,
   "id": "WHTzxdNVeCVc",
   "metadata": {
    "colab": {
     "base_uri": "https://localhost:8080/",
     "height": 790
    },
    "id": "WHTzxdNVeCVc",
    "outputId": "4fcfdb4f-2570-4d71-e5f2-757ac40e7788"
   },
   "outputs": [],
   "source": [
    "Airport1"
   ]
  },
  {
   "cell_type": "code",
   "execution_count": null,
   "id": "1Y6Yv_oDeZgc",
   "metadata": {
    "id": "1Y6Yv_oDeZgc"
   },
   "outputs": [],
   "source": [
    "Airport1.dropna(subset=['dewpoint'],inplace = True)\n",
    "Airport1.dropna(subset=['drybulb'],inplace = True)"
   ]
  },
  {
   "cell_type": "code",
   "execution_count": null,
   "id": "yPd6kf1ViRF2",
   "metadata": {
    "colab": {
     "base_uri": "https://localhost:8080/"
    },
    "id": "yPd6kf1ViRF2",
    "outputId": "ca75a11a-4ccc-494d-d08c-35d4d3e2d82d"
   },
   "outputs": [],
   "source": [
    "Airport1.drybulb.isna().sum()\n",
    "Airport1.dewbulb.isna().sum()\n",
    "Airport1.isna().sum()"
   ]
  },
  {
   "cell_type": "code",
   "execution_count": null,
   "id": "x-DsFwJTjBQv",
   "metadata": {
    "id": "x-DsFwJTjBQv"
   },
   "outputs": [],
   "source": [
    "Airport2.dropna(subset=['dewpoint'],inplace = True)\n",
    "Airport2.dropna(subset=['drybulb'],inplace = True)"
   ]
  },
  {
   "cell_type": "code",
   "execution_count": null,
   "id": "rz1pmekqjIkt",
   "metadata": {
    "id": "rz1pmekqjIkt"
   },
   "outputs": [],
   "source": [
    "Airport3.dropna(subset=['dewpoint'],inplace = True)\n",
    "Airport3.dropna(subset=['drybulb'],inplace = True)"
   ]
  },
  {
   "cell_type": "code",
   "execution_count": null,
   "id": "A7a2qIbbjMfV",
   "metadata": {
    "colab": {
     "base_uri": "https://localhost:8080/"
    },
    "id": "A7a2qIbbjMfV",
    "outputId": "3d6bce0b-b11c-4d71-b4e8-391077068f81"
   },
   "outputs": [],
   "source": [
    "Airport1.isna().sum()"
   ]
  },
  {
   "cell_type": "code",
   "execution_count": null,
   "id": "dfUe4OMvjkHt",
   "metadata": {
    "colab": {
     "base_uri": "https://localhost:8080/"
    },
    "id": "dfUe4OMvjkHt",
    "outputId": "4e025c81-cba2-4e08-9575-25e4dec48d90"
   },
   "outputs": [],
   "source": [
    "Airport2.isna().sum()"
   ]
  },
  {
   "cell_type": "code",
   "execution_count": null,
   "id": "YgAjc1CXjmL9",
   "metadata": {
    "colab": {
     "base_uri": "https://localhost:8080/"
    },
    "id": "YgAjc1CXjmL9",
    "outputId": "58e8a3b6-10e1-407c-828c-17f6e15a1002"
   },
   "outputs": [],
   "source": [
    "Airport3.isna().sum()"
   ]
  },
  {
   "cell_type": "code",
   "execution_count": null,
   "id": "QmHFbsLQjzyG",
   "metadata": {
    "colab": {
     "base_uri": "https://localhost:8080/"
    },
    "id": "QmHFbsLQjzyG",
    "outputId": "5aef33d8-dad5-47ea-8107-847d2a04ed4b"
   },
   "outputs": [],
   "source": [
    "Airport1.isna().sum()"
   ]
  },
  {
   "cell_type": "code",
   "execution_count": null,
   "id": "-koZBuEQkD6x",
   "metadata": {
    "colab": {
     "base_uri": "https://localhost:8080/"
    },
    "id": "-koZBuEQkD6x",
    "outputId": "05668854-3a54-4267-c9ed-45b81773613a"
   },
   "outputs": [],
   "source": [
    "len(Airport1)\n"
   ]
  },
  {
   "cell_type": "code",
   "execution_count": null,
   "id": "QWMyYAeDkw21",
   "metadata": {
    "colab": {
     "base_uri": "https://localhost:8080/"
    },
    "id": "QWMyYAeDkw21",
    "outputId": "5dd2507c-0d44-4690-a271-32c3a4592acd"
   },
   "outputs": [],
   "source": [
    "len(Airport2)"
   ]
  },
  {
   "cell_type": "code",
   "execution_count": null,
   "id": "JnFMIl9wkyfN",
   "metadata": {
    "colab": {
     "base_uri": "https://localhost:8080/"
    },
    "id": "JnFMIl9wkyfN",
    "outputId": "4ba6be93-9b8d-4c2b-ca37-b1aa33d68407"
   },
   "outputs": [],
   "source": [
    "len(Airport3)"
   ]
  }
 ],
 "metadata": {
  "colab": {
   "include_colab_link": true,
   "provenance": []
  },
  "kernelspec": {
   "display_name": "Python 3 (ipykernel)",
   "language": "python",
   "name": "python3"
  },
  "language_info": {
   "codemirror_mode": {
    "name": "ipython",
    "version": 3
   },
   "file_extension": ".py",
   "mimetype": "text/x-python",
   "name": "python",
   "nbconvert_exporter": "python",
   "pygments_lexer": "ipython3",
   "version": "3.11.5"
  }
 },
 "nbformat": 4,
 "nbformat_minor": 5
}
